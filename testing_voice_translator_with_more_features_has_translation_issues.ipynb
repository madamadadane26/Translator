{
  "cells": [
    {
      "cell_type": "code",
      "execution_count": null,
      "metadata": {
        "id": "kG9naEs5DCyc",
        "outputId": "ec2a5184-5011-4bf8-ecd9-cbffa3ef7e36"
      },
      "outputs": [
        {
          "name": "stdout",
          "output_type": "stream",
          "text": [
            "Requirement already satisfied: gtts in c:\\users\\jenny\\anaconda3\\lib\\site-packages (2.3.1)\n",
            "Requirement already satisfied: click<8.2,>=7.1 in c:\\users\\jenny\\anaconda3\\lib\\site-packages (from gtts) (8.0.4)\n",
            "Requirement already satisfied: requests<3,>=2.27 in c:\\users\\jenny\\anaconda3\\lib\\site-packages (from gtts) (2.28.1)\n",
            "Requirement already satisfied: colorama in c:\\users\\jenny\\anaconda3\\lib\\site-packages (from click<8.2,>=7.1->gtts) (0.4.6)\n",
            "Requirement already satisfied: urllib3<1.27,>=1.21.1 in c:\\users\\jenny\\anaconda3\\lib\\site-packages (from requests<3,>=2.27->gtts) (1.26.14)\n",
            "Requirement already satisfied: charset-normalizer<3,>=2 in c:\\users\\jenny\\anaconda3\\lib\\site-packages (from requests<3,>=2.27->gtts) (2.0.4)\n",
            "Requirement already satisfied: certifi>=2017.4.17 in c:\\users\\jenny\\anaconda3\\lib\\site-packages (from requests<3,>=2.27->gtts) (2022.12.7)\n",
            "Requirement already satisfied: idna<4,>=2.5 in c:\\users\\jenny\\anaconda3\\lib\\site-packages (from requests<3,>=2.27->gtts) (3.4)\n"
          ]
        }
      ],
      "source": [
        "!pip install gtts\n"
      ]
    },
    {
      "cell_type": "code",
      "execution_count": null,
      "metadata": {
        "id": "iUaleNKLDCyg",
        "outputId": "238fd4c9-2ab6-46d3-f007-93f5a3a66ebe"
      },
      "outputs": [
        {
          "name": "stdout",
          "output_type": "stream",
          "text": [
            "Requirement already satisfied: scipy in c:\\users\\jenny\\anaconda3\\lib\\site-packages (1.10.0)\n",
            "Requirement already satisfied: numpy<1.27.0,>=1.19.5 in c:\\users\\jenny\\anaconda3\\lib\\site-packages (from scipy) (1.23.5)\n",
            "Requirement already satisfied: translate in c:\\users\\jenny\\anaconda3\\lib\\site-packages (3.6.1)\n",
            "Requirement already satisfied: libretranslatepy==2.1.1 in c:\\users\\jenny\\anaconda3\\lib\\site-packages (from translate) (2.1.1)\n",
            "Requirement already satisfied: lxml in c:\\users\\jenny\\anaconda3\\lib\\site-packages (from translate) (4.9.1)\n",
            "Requirement already satisfied: requests in c:\\users\\jenny\\anaconda3\\lib\\site-packages (from translate) (2.28.1)\n",
            "Requirement already satisfied: click in c:\\users\\jenny\\anaconda3\\lib\\site-packages (from translate) (8.0.4)\n",
            "Requirement already satisfied: colorama in c:\\users\\jenny\\anaconda3\\lib\\site-packages (from click->translate) (0.4.6)\n",
            "Requirement already satisfied: idna<4,>=2.5 in c:\\users\\jenny\\anaconda3\\lib\\site-packages (from requests->translate) (3.4)\n",
            "Requirement already satisfied: charset-normalizer<3,>=2 in c:\\users\\jenny\\anaconda3\\lib\\site-packages (from requests->translate) (2.0.4)\n",
            "Requirement already satisfied: certifi>=2017.4.17 in c:\\users\\jenny\\anaconda3\\lib\\site-packages (from requests->translate) (2022.12.7)\n",
            "Requirement already satisfied: urllib3<1.27,>=1.21.1 in c:\\users\\jenny\\anaconda3\\lib\\site-packages (from requests->translate) (1.26.14)\n",
            "Requirement already satisfied: ipywidgets in c:\\users\\jenny\\anaconda3\\lib\\site-packages (7.6.5)\n",
            "Requirement already satisfied: jupyterlab-widgets>=1.0.0 in c:\\users\\jenny\\anaconda3\\lib\\site-packages (from ipywidgets) (1.0.0)\n",
            "Requirement already satisfied: widgetsnbextension~=3.5.0 in c:\\users\\jenny\\anaconda3\\lib\\site-packages (from ipywidgets) (3.5.2)\n",
            "Requirement already satisfied: traitlets>=4.3.1 in c:\\users\\jenny\\anaconda3\\lib\\site-packages (from ipywidgets) (5.7.1)\n",
            "Requirement already satisfied: ipython-genutils~=0.2.0 in c:\\users\\jenny\\anaconda3\\lib\\site-packages (from ipywidgets) (0.2.0)\n",
            "Requirement already satisfied: ipython>=4.0.0 in c:\\users\\jenny\\anaconda3\\lib\\site-packages (from ipywidgets) (8.10.0)\n",
            "Requirement already satisfied: nbformat>=4.2.0 in c:\\users\\jenny\\anaconda3\\lib\\site-packages (from ipywidgets) (5.7.0)\n",
            "Requirement already satisfied: ipykernel>=4.5.1 in c:\\users\\jenny\\anaconda3\\lib\\site-packages (from ipywidgets) (6.19.2)\n",
            "Requirement already satisfied: pyzmq>=17 in c:\\users\\jenny\\anaconda3\\lib\\site-packages (from ipykernel>=4.5.1->ipywidgets) (23.2.0)\n",
            "Requirement already satisfied: jupyter-client>=6.1.12 in c:\\users\\jenny\\anaconda3\\lib\\site-packages (from ipykernel>=4.5.1->ipywidgets) (7.3.4)\n",
            "Requirement already satisfied: packaging in c:\\users\\jenny\\anaconda3\\lib\\site-packages (from ipykernel>=4.5.1->ipywidgets) (22.0)\n",
            "Requirement already satisfied: psutil in c:\\users\\jenny\\anaconda3\\lib\\site-packages (from ipykernel>=4.5.1->ipywidgets) (5.9.0)\n",
            "Requirement already satisfied: tornado>=6.1 in c:\\users\\jenny\\anaconda3\\lib\\site-packages (from ipykernel>=4.5.1->ipywidgets) (6.1)\n",
            "Requirement already satisfied: nest-asyncio in c:\\users\\jenny\\anaconda3\\lib\\site-packages (from ipykernel>=4.5.1->ipywidgets) (1.5.6)\n",
            "Requirement already satisfied: matplotlib-inline>=0.1 in c:\\users\\jenny\\anaconda3\\lib\\site-packages (from ipykernel>=4.5.1->ipywidgets) (0.1.6)\n",
            "Requirement already satisfied: debugpy>=1.0 in c:\\users\\jenny\\anaconda3\\lib\\site-packages (from ipykernel>=4.5.1->ipywidgets) (1.5.1)\n",
            "Requirement already satisfied: comm>=0.1.1 in c:\\users\\jenny\\anaconda3\\lib\\site-packages (from ipykernel>=4.5.1->ipywidgets) (0.1.2)\n",
            "Requirement already satisfied: pickleshare in c:\\users\\jenny\\anaconda3\\lib\\site-packages (from ipython>=4.0.0->ipywidgets) (0.7.5)\n",
            "Requirement already satisfied: colorama in c:\\users\\jenny\\anaconda3\\lib\\site-packages (from ipython>=4.0.0->ipywidgets) (0.4.6)\n",
            "Requirement already satisfied: prompt-toolkit<3.1.0,>=3.0.30 in c:\\users\\jenny\\anaconda3\\lib\\site-packages (from ipython>=4.0.0->ipywidgets) (3.0.36)\n",
            "Requirement already satisfied: stack-data in c:\\users\\jenny\\anaconda3\\lib\\site-packages (from ipython>=4.0.0->ipywidgets) (0.2.0)\n",
            "Requirement already satisfied: pygments>=2.4.0 in c:\\users\\jenny\\anaconda3\\lib\\site-packages (from ipython>=4.0.0->ipywidgets) (2.11.2)\n",
            "Requirement already satisfied: jedi>=0.16 in c:\\users\\jenny\\anaconda3\\lib\\site-packages (from ipython>=4.0.0->ipywidgets) (0.18.1)\n",
            "Requirement already satisfied: backcall in c:\\users\\jenny\\anaconda3\\lib\\site-packages (from ipython>=4.0.0->ipywidgets) (0.2.0)\n",
            "Requirement already satisfied: decorator in c:\\users\\jenny\\anaconda3\\lib\\site-packages (from ipython>=4.0.0->ipywidgets) (5.1.1)\n",
            "Requirement already satisfied: jupyter-core in c:\\users\\jenny\\anaconda3\\lib\\site-packages (from nbformat>=4.2.0->ipywidgets) (5.2.0)\n",
            "Requirement already satisfied: jsonschema>=2.6 in c:\\users\\jenny\\anaconda3\\lib\\site-packages (from nbformat>=4.2.0->ipywidgets) (4.17.3)\n",
            "Requirement already satisfied: fastjsonschema in c:\\users\\jenny\\anaconda3\\lib\\site-packages (from nbformat>=4.2.0->ipywidgets) (2.16.2)\n",
            "Requirement already satisfied: notebook>=4.4.1 in c:\\users\\jenny\\anaconda3\\lib\\site-packages (from widgetsnbextension~=3.5.0->ipywidgets) (6.5.2)\n",
            "Requirement already satisfied: parso<0.9.0,>=0.8.0 in c:\\users\\jenny\\anaconda3\\lib\\site-packages (from jedi>=0.16->ipython>=4.0.0->ipywidgets) (0.8.3)\n",
            "Requirement already satisfied: pyrsistent!=0.17.0,!=0.17.1,!=0.17.2,>=0.14.0 in c:\\users\\jenny\\anaconda3\\lib\\site-packages (from jsonschema>=2.6->nbformat>=4.2.0->ipywidgets) (0.18.0)\n",
            "Requirement already satisfied: attrs>=17.4.0 in c:\\users\\jenny\\anaconda3\\lib\\site-packages (from jsonschema>=2.6->nbformat>=4.2.0->ipywidgets) (22.1.0)\n",
            "Requirement already satisfied: python-dateutil>=2.8.2 in c:\\users\\jenny\\anaconda3\\lib\\site-packages (from jupyter-client>=6.1.12->ipykernel>=4.5.1->ipywidgets) (2.8.2)\n",
            "Requirement already satisfied: entrypoints in c:\\users\\jenny\\anaconda3\\lib\\site-packages (from jupyter-client>=6.1.12->ipykernel>=4.5.1->ipywidgets) (0.4)\n",
            "Requirement already satisfied: pywin32>=1.0 in c:\\users\\jenny\\anaconda3\\lib\\site-packages (from jupyter-core->nbformat>=4.2.0->ipywidgets) (305.1)\n",
            "Requirement already satisfied: platformdirs>=2.5 in c:\\users\\jenny\\anaconda3\\lib\\site-packages (from jupyter-core->nbformat>=4.2.0->ipywidgets) (2.5.2)\n",
            "Requirement already satisfied: Send2Trash>=1.8.0 in c:\\users\\jenny\\anaconda3\\lib\\site-packages (from notebook>=4.4.1->widgetsnbextension~=3.5.0->ipywidgets) (1.8.0)\n",
            "Requirement already satisfied: argon2-cffi in c:\\users\\jenny\\anaconda3\\lib\\site-packages (from notebook>=4.4.1->widgetsnbextension~=3.5.0->ipywidgets) (21.3.0)\n",
            "Requirement already satisfied: nbconvert>=5 in c:\\users\\jenny\\anaconda3\\lib\\site-packages (from notebook>=4.4.1->widgetsnbextension~=3.5.0->ipywidgets) (6.5.4)\n",
            "Requirement already satisfied: prometheus-client in c:\\users\\jenny\\anaconda3\\lib\\site-packages (from notebook>=4.4.1->widgetsnbextension~=3.5.0->ipywidgets) (0.14.1)\n",
            "Requirement already satisfied: terminado>=0.8.3 in c:\\users\\jenny\\anaconda3\\lib\\site-packages (from notebook>=4.4.1->widgetsnbextension~=3.5.0->ipywidgets) (0.17.1)\n",
            "Requirement already satisfied: nbclassic>=0.4.7 in c:\\users\\jenny\\anaconda3\\lib\\site-packages (from notebook>=4.4.1->widgetsnbextension~=3.5.0->ipywidgets) (0.5.2)\n",
            "Requirement already satisfied: jinja2 in c:\\users\\jenny\\anaconda3\\lib\\site-packages (from notebook>=4.4.1->widgetsnbextension~=3.5.0->ipywidgets) (3.1.2)\n",
            "Requirement already satisfied: wcwidth in c:\\users\\jenny\\anaconda3\\lib\\site-packages (from prompt-toolkit<3.1.0,>=3.0.30->ipython>=4.0.0->ipywidgets) (0.2.5)\n",
            "Requirement already satisfied: executing in c:\\users\\jenny\\anaconda3\\lib\\site-packages (from stack-data->ipython>=4.0.0->ipywidgets) (0.8.3)\n",
            "Requirement already satisfied: asttokens in c:\\users\\jenny\\anaconda3\\lib\\site-packages (from stack-data->ipython>=4.0.0->ipywidgets) (2.0.5)\n",
            "Requirement already satisfied: pure-eval in c:\\users\\jenny\\anaconda3\\lib\\site-packages (from stack-data->ipython>=4.0.0->ipywidgets) (0.2.2)\n",
            "Requirement already satisfied: notebook-shim>=0.1.0 in c:\\users\\jenny\\anaconda3\\lib\\site-packages (from nbclassic>=0.4.7->notebook>=4.4.1->widgetsnbextension~=3.5.0->ipywidgets) (0.2.2)\n",
            "Requirement already satisfied: jupyter-server>=1.8 in c:\\users\\jenny\\anaconda3\\lib\\site-packages (from nbclassic>=0.4.7->notebook>=4.4.1->widgetsnbextension~=3.5.0->ipywidgets) (1.23.4)\n",
            "Requirement already satisfied: bleach in c:\\users\\jenny\\anaconda3\\lib\\site-packages (from nbconvert>=5->notebook>=4.4.1->widgetsnbextension~=3.5.0->ipywidgets) (4.1.0)\n",
            "Requirement already satisfied: lxml in c:\\users\\jenny\\anaconda3\\lib\\site-packages (from nbconvert>=5->notebook>=4.4.1->widgetsnbextension~=3.5.0->ipywidgets) (4.9.1)\n",
            "Requirement already satisfied: jupyterlab-pygments in c:\\users\\jenny\\anaconda3\\lib\\site-packages (from nbconvert>=5->notebook>=4.4.1->widgetsnbextension~=3.5.0->ipywidgets) (0.1.2)\n",
            "Requirement already satisfied: mistune<2,>=0.8.1 in c:\\users\\jenny\\anaconda3\\lib\\site-packages (from nbconvert>=5->notebook>=4.4.1->widgetsnbextension~=3.5.0->ipywidgets) (0.8.4)\n",
            "Requirement already satisfied: nbclient>=0.5.0 in c:\\users\\jenny\\anaconda3\\lib\\site-packages (from nbconvert>=5->notebook>=4.4.1->widgetsnbextension~=3.5.0->ipywidgets) (0.5.13)\n",
            "Requirement already satisfied: tinycss2 in c:\\users\\jenny\\anaconda3\\lib\\site-packages (from nbconvert>=5->notebook>=4.4.1->widgetsnbextension~=3.5.0->ipywidgets) (1.2.1)\n",
            "Requirement already satisfied: MarkupSafe>=2.0 in c:\\users\\jenny\\anaconda3\\lib\\site-packages (from nbconvert>=5->notebook>=4.4.1->widgetsnbextension~=3.5.0->ipywidgets) (2.1.1)\n",
            "Requirement already satisfied: pandocfilters>=1.4.1 in c:\\users\\jenny\\anaconda3\\lib\\site-packages (from nbconvert>=5->notebook>=4.4.1->widgetsnbextension~=3.5.0->ipywidgets) (1.5.0)\n",
            "Requirement already satisfied: defusedxml in c:\\users\\jenny\\anaconda3\\lib\\site-packages (from nbconvert>=5->notebook>=4.4.1->widgetsnbextension~=3.5.0->ipywidgets) (0.7.1)\n",
            "Requirement already satisfied: beautifulsoup4 in c:\\users\\jenny\\anaconda3\\lib\\site-packages (from nbconvert>=5->notebook>=4.4.1->widgetsnbextension~=3.5.0->ipywidgets) (4.11.1)\n",
            "Requirement already satisfied: six>=1.5 in c:\\users\\jenny\\anaconda3\\lib\\site-packages (from python-dateutil>=2.8.2->jupyter-client>=6.1.12->ipykernel>=4.5.1->ipywidgets) (1.16.0)\n",
            "Requirement already satisfied: pywinpty>=1.1.0 in c:\\users\\jenny\\anaconda3\\lib\\site-packages (from terminado>=0.8.3->notebook>=4.4.1->widgetsnbextension~=3.5.0->ipywidgets) (2.0.10)\n",
            "Requirement already satisfied: argon2-cffi-bindings in c:\\users\\jenny\\anaconda3\\lib\\site-packages (from argon2-cffi->notebook>=4.4.1->widgetsnbextension~=3.5.0->ipywidgets) (21.2.0)\n",
            "Requirement already satisfied: anyio<4,>=3.1.0 in c:\\users\\jenny\\anaconda3\\lib\\site-packages (from jupyter-server>=1.8->nbclassic>=0.4.7->notebook>=4.4.1->widgetsnbextension~=3.5.0->ipywidgets) (3.5.0)\n",
            "Requirement already satisfied: websocket-client in c:\\users\\jenny\\anaconda3\\lib\\site-packages (from jupyter-server>=1.8->nbclassic>=0.4.7->notebook>=4.4.1->widgetsnbextension~=3.5.0->ipywidgets) (0.58.0)\n",
            "Requirement already satisfied: cffi>=1.0.1 in c:\\users\\jenny\\anaconda3\\lib\\site-packages (from argon2-cffi-bindings->argon2-cffi->notebook>=4.4.1->widgetsnbextension~=3.5.0->ipywidgets) (1.15.1)\n",
            "Requirement already satisfied: soupsieve>1.2 in c:\\users\\jenny\\anaconda3\\lib\\site-packages (from beautifulsoup4->nbconvert>=5->notebook>=4.4.1->widgetsnbextension~=3.5.0->ipywidgets) (2.3.2.post1)\n",
            "Requirement already satisfied: webencodings in c:\\users\\jenny\\anaconda3\\lib\\site-packages (from bleach->nbconvert>=5->notebook>=4.4.1->widgetsnbextension~=3.5.0->ipywidgets) (0.5.1)\n",
            "Requirement already satisfied: idna>=2.8 in c:\\users\\jenny\\anaconda3\\lib\\site-packages (from anyio<4,>=3.1.0->jupyter-server>=1.8->nbclassic>=0.4.7->notebook>=4.4.1->widgetsnbextension~=3.5.0->ipywidgets) (3.4)\n",
            "Requirement already satisfied: sniffio>=1.1 in c:\\users\\jenny\\anaconda3\\lib\\site-packages (from anyio<4,>=3.1.0->jupyter-server>=1.8->nbclassic>=0.4.7->notebook>=4.4.1->widgetsnbextension~=3.5.0->ipywidgets) (1.2.0)\n",
            "Requirement already satisfied: pycparser in c:\\users\\jenny\\anaconda3\\lib\\site-packages (from cffi>=1.0.1->argon2-cffi-bindings->argon2-cffi->notebook>=4.4.1->widgetsnbextension~=3.5.0->ipywidgets) (2.21)\n"
          ]
        },
        {
          "name": "stdout",
          "output_type": "stream",
          "text": [
            "Requirement already satisfied: vosk in c:\\users\\jenny\\anaconda3\\lib\\site-packages (0.3.45)\n",
            "Requirement already satisfied: websockets in c:\\users\\jenny\\anaconda3\\lib\\site-packages (from vosk) (11.0.1)\n",
            "Requirement already satisfied: requests in c:\\users\\jenny\\anaconda3\\lib\\site-packages (from vosk) (2.28.1)\n",
            "Requirement already satisfied: cffi>=1.0 in c:\\users\\jenny\\anaconda3\\lib\\site-packages (from vosk) (1.15.1)\n",
            "Requirement already satisfied: tqdm in c:\\users\\jenny\\anaconda3\\lib\\site-packages (from vosk) (4.64.1)\n",
            "Requirement already satisfied: srt in c:\\users\\jenny\\anaconda3\\lib\\site-packages (from vosk) (3.5.3)\n",
            "Requirement already satisfied: pycparser in c:\\users\\jenny\\anaconda3\\lib\\site-packages (from cffi>=1.0->vosk) (2.21)\n",
            "Requirement already satisfied: certifi>=2017.4.17 in c:\\users\\jenny\\anaconda3\\lib\\site-packages (from requests->vosk) (2022.12.7)\n",
            "Requirement already satisfied: charset-normalizer<3,>=2 in c:\\users\\jenny\\anaconda3\\lib\\site-packages (from requests->vosk) (2.0.4)\n",
            "Requirement already satisfied: idna<4,>=2.5 in c:\\users\\jenny\\anaconda3\\lib\\site-packages (from requests->vosk) (3.4)\n",
            "Requirement already satisfied: urllib3<1.27,>=1.21.1 in c:\\users\\jenny\\anaconda3\\lib\\site-packages (from requests->vosk) (1.26.14)\n",
            "Requirement already satisfied: colorama in c:\\users\\jenny\\anaconda3\\lib\\site-packages (from tqdm->vosk) (0.4.6)\n",
            "Requirement already satisfied: pyaudio in c:\\users\\jenny\\anaconda3\\lib\\site-packages (0.2.13)\n",
            "Requirement already satisfied: pandas in c:\\users\\jenny\\anaconda3\\lib\\site-packages (1.5.3)\n",
            "Requirement already satisfied: python-dateutil>=2.8.1 in c:\\users\\jenny\\anaconda3\\lib\\site-packages (from pandas) (2.8.2)\n",
            "Requirement already satisfied: pytz>=2020.1 in c:\\users\\jenny\\anaconda3\\lib\\site-packages (from pandas) (2022.7)\n",
            "Requirement already satisfied: numpy>=1.21.0 in c:\\users\\jenny\\anaconda3\\lib\\site-packages (from pandas) (1.23.5)\n",
            "Requirement already satisfied: six>=1.5 in c:\\users\\jenny\\anaconda3\\lib\\site-packages (from python-dateutil>=2.8.1->pandas) (1.16.0)\n",
            "Requirement already satisfied: numpy in c:\\users\\jenny\\anaconda3\\lib\\site-packages (1.23.5)\n",
            "Requirement already satisfied: keras in c:\\users\\jenny\\anaconda3\\lib\\site-packages (2.10.0)\n",
            "Requirement already satisfied: tensorflow in c:\\users\\jenny\\anaconda3\\lib\\site-packages (2.10.0)\n",
            "Requirement already satisfied: google-pasta>=0.1.1 in c:\\users\\jenny\\anaconda3\\lib\\site-packages (from tensorflow) (0.2.0)\n",
            "Requirement already satisfied: libclang>=13.0.0 in c:\\users\\jenny\\anaconda3\\lib\\site-packages (from tensorflow) (16.0.0)\n",
            "Requirement already satisfied: tensorboard<2.11,>=2.10 in c:\\users\\jenny\\anaconda3\\lib\\site-packages (from tensorflow) (2.10.0)\n",
            "Requirement already satisfied: setuptools in c:\\users\\jenny\\anaconda3\\lib\\site-packages (from tensorflow) (65.6.3)\n",
            "Requirement already satisfied: h5py>=2.9.0 in c:\\users\\jenny\\anaconda3\\lib\\site-packages (from tensorflow) (3.7.0)\n",
            "Requirement already satisfied: gast<=0.4.0,>=0.2.1 in c:\\users\\jenny\\anaconda3\\lib\\site-packages (from tensorflow) (0.4.0)\n",
            "Requirement already satisfied: numpy>=1.20 in c:\\users\\jenny\\anaconda3\\lib\\site-packages (from tensorflow) (1.23.5)\n",
            "Requirement already satisfied: six>=1.12.0 in c:\\users\\jenny\\anaconda3\\lib\\site-packages (from tensorflow) (1.16.0)\n",
            "Requirement already satisfied: keras-preprocessing>=1.1.1 in c:\\users\\jenny\\anaconda3\\lib\\site-packages (from tensorflow) (1.1.2)\n",
            "Requirement already satisfied: termcolor>=1.1.0 in c:\\users\\jenny\\anaconda3\\lib\\site-packages (from tensorflow) (2.1.0)\n",
            "Requirement already satisfied: flatbuffers>=2.0 in c:\\users\\jenny\\anaconda3\\lib\\site-packages (from tensorflow) (2.0)\n",
            "Requirement already satisfied: absl-py>=1.0.0 in c:\\users\\jenny\\anaconda3\\lib\\site-packages (from tensorflow) (1.3.0)\n",
            "Requirement already satisfied: astunparse>=1.6.0 in c:\\users\\jenny\\anaconda3\\lib\\site-packages (from tensorflow) (1.6.3)\n",
            "Requirement already satisfied: packaging in c:\\users\\jenny\\anaconda3\\lib\\site-packages (from tensorflow) (22.0)\n",
            "Requirement already satisfied: typing-extensions>=3.6.6 in c:\\users\\jenny\\anaconda3\\lib\\site-packages (from tensorflow) (4.4.0)\n",
            "Requirement already satisfied: protobuf<3.20,>=3.9.2 in c:\\users\\jenny\\anaconda3\\lib\\site-packages (from tensorflow) (3.19.6)\n",
            "Requirement already satisfied: tensorflow-io-gcs-filesystem>=0.23.1 in c:\\users\\jenny\\anaconda3\\lib\\site-packages (from tensorflow) (0.31.0)\n",
            "Requirement already satisfied: wrapt>=1.11.0 in c:\\users\\jenny\\anaconda3\\lib\\site-packages (from tensorflow) (1.14.1)\n",
            "Requirement already satisfied: keras<2.11,>=2.10.0 in c:\\users\\jenny\\anaconda3\\lib\\site-packages (from tensorflow) (2.10.0)\n",
            "Requirement already satisfied: opt-einsum>=2.3.2 in c:\\users\\jenny\\anaconda3\\lib\\site-packages (from tensorflow) (3.3.0)\n",
            "Requirement already satisfied: tensorflow-estimator<2.11,>=2.10.0 in c:\\users\\jenny\\anaconda3\\lib\\site-packages (from tensorflow) (2.10.0)\n",
            "Requirement already satisfied: grpcio<2.0,>=1.24.3 in c:\\users\\jenny\\anaconda3\\lib\\site-packages (from tensorflow) (1.42.0)\n",
            "Requirement already satisfied: wheel<1.0,>=0.23.0 in c:\\users\\jenny\\anaconda3\\lib\\site-packages (from astunparse>=1.6.0->tensorflow) (0.38.4)\n",
            "Requirement already satisfied: google-auth<3,>=1.6.3 in c:\\users\\jenny\\anaconda3\\lib\\site-packages (from tensorboard<2.11,>=2.10->tensorflow) (2.6.0)\n",
            "Requirement already satisfied: markdown>=2.6.8 in c:\\users\\jenny\\anaconda3\\lib\\site-packages (from tensorboard<2.11,>=2.10->tensorflow) (3.4.1)\n",
            "Requirement already satisfied: werkzeug>=1.0.1 in c:\\users\\jenny\\anaconda3\\lib\\site-packages (from tensorboard<2.11,>=2.10->tensorflow) (2.2.2)\n",
            "Requirement already satisfied: tensorboard-data-server<0.7.0,>=0.6.0 in c:\\users\\jenny\\anaconda3\\lib\\site-packages (from tensorboard<2.11,>=2.10->tensorflow) (0.6.1)\n",
            "Requirement already satisfied: tensorboard-plugin-wit>=1.6.0 in c:\\users\\jenny\\anaconda3\\lib\\site-packages (from tensorboard<2.11,>=2.10->tensorflow) (1.8.1)\n",
            "Requirement already satisfied: google-auth-oauthlib<0.5,>=0.4.1 in c:\\users\\jenny\\anaconda3\\lib\\site-packages (from tensorboard<2.11,>=2.10->tensorflow) (0.4.4)\n",
            "Requirement already satisfied: requests<3,>=2.21.0 in c:\\users\\jenny\\anaconda3\\lib\\site-packages (from tensorboard<2.11,>=2.10->tensorflow) (2.28.1)\n",
            "Requirement already satisfied: rsa<5,>=3.1.4 in c:\\users\\jenny\\anaconda3\\lib\\site-packages (from google-auth<3,>=1.6.3->tensorboard<2.11,>=2.10->tensorflow) (4.7.2)\n",
            "Requirement already satisfied: cachetools<6.0,>=2.0.0 in c:\\users\\jenny\\anaconda3\\lib\\site-packages (from google-auth<3,>=1.6.3->tensorboard<2.11,>=2.10->tensorflow) (4.2.2)\n",
            "Requirement already satisfied: pyasn1-modules>=0.2.1 in c:\\users\\jenny\\anaconda3\\lib\\site-packages (from google-auth<3,>=1.6.3->tensorboard<2.11,>=2.10->tensorflow) (0.2.8)\n",
            "Requirement already satisfied: requests-oauthlib>=0.7.0 in c:\\users\\jenny\\anaconda3\\lib\\site-packages (from google-auth-oauthlib<0.5,>=0.4.1->tensorboard<2.11,>=2.10->tensorflow) (1.3.0)\n",
            "Requirement already satisfied: urllib3<1.27,>=1.21.1 in c:\\users\\jenny\\anaconda3\\lib\\site-packages (from requests<3,>=2.21.0->tensorboard<2.11,>=2.10->tensorflow) (1.26.14)\n",
            "Requirement already satisfied: certifi>=2017.4.17 in c:\\users\\jenny\\anaconda3\\lib\\site-packages (from requests<3,>=2.21.0->tensorboard<2.11,>=2.10->tensorflow) (2022.12.7)\n",
            "Requirement already satisfied: charset-normalizer<3,>=2 in c:\\users\\jenny\\anaconda3\\lib\\site-packages (from requests<3,>=2.21.0->tensorboard<2.11,>=2.10->tensorflow) (2.0.4)\n",
            "Requirement already satisfied: idna<4,>=2.5 in c:\\users\\jenny\\anaconda3\\lib\\site-packages (from requests<3,>=2.21.0->tensorboard<2.11,>=2.10->tensorflow) (3.4)\n",
            "Requirement already satisfied: MarkupSafe>=2.1.1 in c:\\users\\jenny\\anaconda3\\lib\\site-packages (from werkzeug>=1.0.1->tensorboard<2.11,>=2.10->tensorflow) (2.1.1)\n",
            "Requirement already satisfied: pyasn1<0.5.0,>=0.4.6 in c:\\users\\jenny\\anaconda3\\lib\\site-packages (from pyasn1-modules>=0.2.1->google-auth<3,>=1.6.3->tensorboard<2.11,>=2.10->tensorflow) (0.4.8)\n",
            "Requirement already satisfied: oauthlib>=3.0.0 in c:\\users\\jenny\\anaconda3\\lib\\site-packages (from requests-oauthlib>=0.7.0->google-auth-oauthlib<0.5,>=0.4.1->tensorboard<2.11,>=2.10->tensorflow) (3.2.2)\n"
          ]
        }
      ],
      "source": [
        "!pip install scipy\n",
        "!pip install translate\n",
        "!pip install ipywidgets\n",
        "!pip install vosk\n",
        "!pip install pyaudio\n",
        "!pip install pandas\n",
        "!pip install numpy\n",
        "!pip install keras\n",
        "!pip install tensorflow\n",
        "\n"
      ]
    },
    {
      "cell_type": "code",
      "execution_count": null,
      "metadata": {
        "id": "zdzqTnHGqcrj",
        "outputId": "8908aaff-8f7a-4a13-db81-7a254eb01808"
      },
      "outputs": [
        {
          "name": "stdout",
          "output_type": "stream",
          "text": [
            "{'index': 0, 'structVersion': 2, 'name': 'Microsoft Sound Mapper - Input', 'hostApi': 0, 'maxInputChannels': 2, 'maxOutputChannels': 0, 'defaultLowInputLatency': 0.09, 'defaultLowOutputLatency': 0.09, 'defaultHighInputLatency': 0.18, 'defaultHighOutputLatency': 0.18, 'defaultSampleRate': 44100.0}\n",
            "{'index': 1, 'structVersion': 2, 'name': 'Microphone (2- USB Audio Device', 'hostApi': 0, 'maxInputChannels': 1, 'maxOutputChannels': 0, 'defaultLowInputLatency': 0.09, 'defaultLowOutputLatency': 0.09, 'defaultHighInputLatency': 0.18, 'defaultHighOutputLatency': 0.18, 'defaultSampleRate': 44100.0}\n",
            "{'index': 2, 'structVersion': 2, 'name': 'Microphone (DroidCam Virtual Au', 'hostApi': 0, 'maxInputChannels': 1, 'maxOutputChannels': 0, 'defaultLowInputLatency': 0.09, 'defaultLowOutputLatency': 0.09, 'defaultHighInputLatency': 0.18, 'defaultHighOutputLatency': 0.18, 'defaultSampleRate': 44100.0}\n",
            "{'index': 3, 'structVersion': 2, 'name': 'Microsoft Sound Mapper - Output', 'hostApi': 0, 'maxInputChannels': 0, 'maxOutputChannels': 2, 'defaultLowInputLatency': 0.09, 'defaultLowOutputLatency': 0.09, 'defaultHighInputLatency': 0.18, 'defaultHighOutputLatency': 0.18, 'defaultSampleRate': 44100.0}\n",
            "{'index': 4, 'structVersion': 2, 'name': 'Speakers (2- USB Audio Device)', 'hostApi': 0, 'maxInputChannels': 0, 'maxOutputChannels': 2, 'defaultLowInputLatency': 0.09, 'defaultLowOutputLatency': 0.09, 'defaultHighInputLatency': 0.18, 'defaultHighOutputLatency': 0.18, 'defaultSampleRate': 44100.0}\n",
            "{'index': 5, 'structVersion': 2, 'name': 'Digital Audio (S/PDIF) (High De', 'hostApi': 0, 'maxInputChannels': 0, 'maxOutputChannels': 2, 'defaultLowInputLatency': 0.09, 'defaultLowOutputLatency': 0.09, 'defaultHighInputLatency': 0.18, 'defaultHighOutputLatency': 0.18, 'defaultSampleRate': 44100.0}\n",
            "{'index': 6, 'structVersion': 2, 'name': 'Primary Sound Capture Driver', 'hostApi': 1, 'maxInputChannels': 2, 'maxOutputChannels': 0, 'defaultLowInputLatency': 0.12, 'defaultLowOutputLatency': 0.0, 'defaultHighInputLatency': 0.24, 'defaultHighOutputLatency': 0.0, 'defaultSampleRate': 44100.0}\n",
            "{'index': 7, 'structVersion': 2, 'name': 'Microphone (2- USB Audio Device)', 'hostApi': 1, 'maxInputChannels': 1, 'maxOutputChannels': 0, 'defaultLowInputLatency': 0.12, 'defaultLowOutputLatency': 0.0, 'defaultHighInputLatency': 0.24, 'defaultHighOutputLatency': 0.0, 'defaultSampleRate': 44100.0}\n",
            "{'index': 8, 'structVersion': 2, 'name': 'Microphone (DroidCam Virtual Audio)', 'hostApi': 1, 'maxInputChannels': 1, 'maxOutputChannels': 0, 'defaultLowInputLatency': 0.12, 'defaultLowOutputLatency': 0.0, 'defaultHighInputLatency': 0.24, 'defaultHighOutputLatency': 0.0, 'defaultSampleRate': 44100.0}\n",
            "{'index': 9, 'structVersion': 2, 'name': 'Primary Sound Driver', 'hostApi': 1, 'maxInputChannels': 0, 'maxOutputChannels': 2, 'defaultLowInputLatency': 0.0, 'defaultLowOutputLatency': 0.12, 'defaultHighInputLatency': 0.0, 'defaultHighOutputLatency': 0.24, 'defaultSampleRate': 44100.0}\n",
            "{'index': 10, 'structVersion': 2, 'name': 'Speakers (2- USB Audio Device)', 'hostApi': 1, 'maxInputChannels': 0, 'maxOutputChannels': 2, 'defaultLowInputLatency': 0.0, 'defaultLowOutputLatency': 0.12, 'defaultHighInputLatency': 0.0, 'defaultHighOutputLatency': 0.24, 'defaultSampleRate': 44100.0}\n",
            "{'index': 11, 'structVersion': 2, 'name': 'Digital Audio (S/PDIF) (High Definition Audio Device)', 'hostApi': 1, 'maxInputChannels': 0, 'maxOutputChannels': 2, 'defaultLowInputLatency': 0.0, 'defaultLowOutputLatency': 0.12, 'defaultHighInputLatency': 0.0, 'defaultHighOutputLatency': 0.24, 'defaultSampleRate': 44100.0}\n",
            "{'index': 12, 'structVersion': 2, 'name': 'Speakers (2- USB Audio Device)', 'hostApi': 2, 'maxInputChannels': 0, 'maxOutputChannels': 2, 'defaultLowInputLatency': 0.0, 'defaultLowOutputLatency': 0.003, 'defaultHighInputLatency': 0.0, 'defaultHighOutputLatency': 0.01, 'defaultSampleRate': 48000.0}\n",
            "{'index': 13, 'structVersion': 2, 'name': 'Digital Audio (S/PDIF) (High Definition Audio Device)', 'hostApi': 2, 'maxInputChannels': 0, 'maxOutputChannels': 2, 'defaultLowInputLatency': 0.0, 'defaultLowOutputLatency': 0.0026666999999999997, 'defaultHighInputLatency': 0.0, 'defaultHighOutputLatency': 0.01, 'defaultSampleRate': 48000.0}\n",
            "{'index': 14, 'structVersion': 2, 'name': 'Microphone (2- USB Audio Device)', 'hostApi': 2, 'maxInputChannels': 1, 'maxOutputChannels': 0, 'defaultLowInputLatency': 0.003, 'defaultLowOutputLatency': 0.0, 'defaultHighInputLatency': 0.01, 'defaultHighOutputLatency': 0.0, 'defaultSampleRate': 48000.0}\n",
            "{'index': 15, 'structVersion': 2, 'name': 'Microphone (DroidCam Virtual Audio)', 'hostApi': 2, 'maxInputChannels': 1, 'maxOutputChannels': 0, 'defaultLowInputLatency': 0.003, 'defaultLowOutputLatency': 0.0, 'defaultHighInputLatency': 0.01, 'defaultHighOutputLatency': 0.0, 'defaultSampleRate': 16000.0}\n",
            "{'index': 16, 'structVersion': 2, 'name': 'SPDIF Out (HD Audio SPDIF out)', 'hostApi': 3, 'maxInputChannels': 0, 'maxOutputChannels': 2, 'defaultLowInputLatency': 0.01, 'defaultLowOutputLatency': 0.01, 'defaultHighInputLatency': 0.04, 'defaultHighOutputLatency': 0.04, 'defaultSampleRate': 44100.0}\n",
            "{'index': 17, 'structVersion': 2, 'name': 'MIDI (DroidCam Audio)', 'hostApi': 3, 'maxInputChannels': 1, 'maxOutputChannels': 0, 'defaultLowInputLatency': 0.01, 'defaultLowOutputLatency': 0.01, 'defaultHighInputLatency': 0.08533333333333333, 'defaultHighOutputLatency': 0.08533333333333333, 'defaultSampleRate': 16000.0}\n",
            "{'index': 18, 'structVersion': 2, 'name': 'Output (DroidCam Audio)', 'hostApi': 3, 'maxInputChannels': 0, 'maxOutputChannels': 1, 'defaultLowInputLatency': 0.01, 'defaultLowOutputLatency': 0.01, 'defaultHighInputLatency': 0.08533333333333333, 'defaultHighOutputLatency': 0.08533333333333333, 'defaultSampleRate': 16000.0}\n",
            "{'index': 19, 'structVersion': 2, 'name': 'Speakers (USB Audio Device)', 'hostApi': 3, 'maxInputChannels': 0, 'maxOutputChannels': 2, 'defaultLowInputLatency': 0.01, 'defaultLowOutputLatency': 0.01, 'defaultHighInputLatency': 0.08533333333333333, 'defaultHighOutputLatency': 0.08533333333333333, 'defaultSampleRate': 44100.0}\n",
            "{'index': 20, 'structVersion': 2, 'name': 'Microphone (USB Audio Device)', 'hostApi': 3, 'maxInputChannels': 1, 'maxOutputChannels': 0, 'defaultLowInputLatency': 0.01, 'defaultLowOutputLatency': 0.01, 'defaultHighInputLatency': 0.08533333333333333, 'defaultHighOutputLatency': 0.08533333333333333, 'defaultSampleRate': 44100.0}\n",
            "{'index': 21, 'structVersion': 2, 'name': 'Headphones ()', 'hostApi': 3, 'maxInputChannels': 0, 'maxOutputChannels': 2, 'defaultLowInputLatency': 0.01, 'defaultLowOutputLatency': 0.01, 'defaultHighInputLatency': 0.08533333333333333, 'defaultHighOutputLatency': 0.08533333333333333, 'defaultSampleRate': 44100.0}\n",
            "{'index': 22, 'structVersion': 2, 'name': 'Headset (@System32\\\\drivers\\\\bthhfenum.sys,#2;%1 Hands-Free AG Audio%0\\r\\n;(CHROMA TWS))', 'hostApi': 3, 'maxInputChannels': 0, 'maxOutputChannels': 1, 'defaultLowInputLatency': 0.01, 'defaultLowOutputLatency': 0.01, 'defaultHighInputLatency': 0.08533333333333333, 'defaultHighOutputLatency': 0.08533333333333333, 'defaultSampleRate': 8000.0}\n",
            "{'index': 23, 'structVersion': 2, 'name': 'Headset (@System32\\\\drivers\\\\bthhfenum.sys,#2;%1 Hands-Free AG Audio%0\\r\\n;(CHROMA TWS))', 'hostApi': 3, 'maxInputChannels': 1, 'maxOutputChannels': 0, 'defaultLowInputLatency': 0.01, 'defaultLowOutputLatency': 0.01, 'defaultHighInputLatency': 0.08533333333333333, 'defaultHighOutputLatency': 0.08533333333333333, 'defaultSampleRate': 8000.0}\n"
          ]
        }
      ],
      "source": [
        "# Install pyaudio from http://people.csail.mit.edu/hubert/pyaudio/\n",
        "# Find audio device index using this code\n",
        "import pyaudio\n",
        "p = pyaudio.PyAudio()\n",
        "for i in range(p.get_device_count()):\n",
        "    print(p.get_device_info_by_index(i))\n",
        "\n",
        "p.terminate()"
      ]
    },
    {
      "cell_type": "code",
      "execution_count": null,
      "metadata": {
        "colab": {
          "base_uri": "https://localhost:8080/"
        },
        "id": "Zrng3zKVxpPO",
        "outputId": "208e3e98-8476-4394-8f4e-5c6ca12bc2c4"
      },
      "outputs": [
        {
          "name": "stdout",
          "output_type": "stream",
          "text": [
            "24\n",
            "{'index': 0, 'structVersion': 2, 'name': 'Microsoft Sound Mapper - Input', 'hostApi': 0, 'maxInputChannels': 2, 'maxOutputChannels': 0, 'defaultLowInputLatency': 0.09, 'defaultLowOutputLatency': 0.09, 'defaultHighInputLatency': 0.18, 'defaultHighOutputLatency': 0.18, 'defaultSampleRate': 44100.0}\n",
            "{'index': 1, 'structVersion': 2, 'name': 'Microphone (2- USB Audio Device', 'hostApi': 0, 'maxInputChannels': 1, 'maxOutputChannels': 0, 'defaultLowInputLatency': 0.09, 'defaultLowOutputLatency': 0.09, 'defaultHighInputLatency': 0.18, 'defaultHighOutputLatency': 0.18, 'defaultSampleRate': 44100.0}\n",
            "{'index': 2, 'structVersion': 2, 'name': 'Microphone (DroidCam Virtual Au', 'hostApi': 0, 'maxInputChannels': 1, 'maxOutputChannels': 0, 'defaultLowInputLatency': 0.09, 'defaultLowOutputLatency': 0.09, 'defaultHighInputLatency': 0.18, 'defaultHighOutputLatency': 0.18, 'defaultSampleRate': 44100.0}\n",
            "{'index': 3, 'structVersion': 2, 'name': 'Microsoft Sound Mapper - Output', 'hostApi': 0, 'maxInputChannels': 0, 'maxOutputChannels': 2, 'defaultLowInputLatency': 0.09, 'defaultLowOutputLatency': 0.09, 'defaultHighInputLatency': 0.18, 'defaultHighOutputLatency': 0.18, 'defaultSampleRate': 44100.0}\n",
            "{'index': 4, 'structVersion': 2, 'name': 'Speakers (2- USB Audio Device)', 'hostApi': 0, 'maxInputChannels': 0, 'maxOutputChannels': 2, 'defaultLowInputLatency': 0.09, 'defaultLowOutputLatency': 0.09, 'defaultHighInputLatency': 0.18, 'defaultHighOutputLatency': 0.18, 'defaultSampleRate': 44100.0}\n",
            "{'index': 5, 'structVersion': 2, 'name': 'Digital Audio (S/PDIF) (High De', 'hostApi': 0, 'maxInputChannels': 0, 'maxOutputChannels': 2, 'defaultLowInputLatency': 0.09, 'defaultLowOutputLatency': 0.09, 'defaultHighInputLatency': 0.18, 'defaultHighOutputLatency': 0.18, 'defaultSampleRate': 44100.0}\n",
            "{'index': 6, 'structVersion': 2, 'name': 'Primary Sound Capture Driver', 'hostApi': 1, 'maxInputChannels': 2, 'maxOutputChannels': 0, 'defaultLowInputLatency': 0.12, 'defaultLowOutputLatency': 0.0, 'defaultHighInputLatency': 0.24, 'defaultHighOutputLatency': 0.0, 'defaultSampleRate': 44100.0}\n",
            "{'index': 7, 'structVersion': 2, 'name': 'Microphone (2- USB Audio Device)', 'hostApi': 1, 'maxInputChannels': 1, 'maxOutputChannels': 0, 'defaultLowInputLatency': 0.12, 'defaultLowOutputLatency': 0.0, 'defaultHighInputLatency': 0.24, 'defaultHighOutputLatency': 0.0, 'defaultSampleRate': 44100.0}\n",
            "{'index': 8, 'structVersion': 2, 'name': 'Microphone (DroidCam Virtual Audio)', 'hostApi': 1, 'maxInputChannels': 1, 'maxOutputChannels': 0, 'defaultLowInputLatency': 0.12, 'defaultLowOutputLatency': 0.0, 'defaultHighInputLatency': 0.24, 'defaultHighOutputLatency': 0.0, 'defaultSampleRate': 44100.0}\n",
            "{'index': 9, 'structVersion': 2, 'name': 'Primary Sound Driver', 'hostApi': 1, 'maxInputChannels': 0, 'maxOutputChannels': 2, 'defaultLowInputLatency': 0.0, 'defaultLowOutputLatency': 0.12, 'defaultHighInputLatency': 0.0, 'defaultHighOutputLatency': 0.24, 'defaultSampleRate': 44100.0}\n",
            "{'index': 10, 'structVersion': 2, 'name': 'Speakers (2- USB Audio Device)', 'hostApi': 1, 'maxInputChannels': 0, 'maxOutputChannels': 2, 'defaultLowInputLatency': 0.0, 'defaultLowOutputLatency': 0.12, 'defaultHighInputLatency': 0.0, 'defaultHighOutputLatency': 0.24, 'defaultSampleRate': 44100.0}\n",
            "{'index': 11, 'structVersion': 2, 'name': 'Digital Audio (S/PDIF) (High Definition Audio Device)', 'hostApi': 1, 'maxInputChannels': 0, 'maxOutputChannels': 2, 'defaultLowInputLatency': 0.0, 'defaultLowOutputLatency': 0.12, 'defaultHighInputLatency': 0.0, 'defaultHighOutputLatency': 0.24, 'defaultSampleRate': 44100.0}\n",
            "{'index': 12, 'structVersion': 2, 'name': 'Speakers (2- USB Audio Device)', 'hostApi': 2, 'maxInputChannels': 0, 'maxOutputChannels': 2, 'defaultLowInputLatency': 0.0, 'defaultLowOutputLatency': 0.003, 'defaultHighInputLatency': 0.0, 'defaultHighOutputLatency': 0.01, 'defaultSampleRate': 48000.0}\n",
            "{'index': 13, 'structVersion': 2, 'name': 'Digital Audio (S/PDIF) (High Definition Audio Device)', 'hostApi': 2, 'maxInputChannels': 0, 'maxOutputChannels': 2, 'defaultLowInputLatency': 0.0, 'defaultLowOutputLatency': 0.0026666999999999997, 'defaultHighInputLatency': 0.0, 'defaultHighOutputLatency': 0.01, 'defaultSampleRate': 48000.0}\n",
            "{'index': 14, 'structVersion': 2, 'name': 'Microphone (2- USB Audio Device)', 'hostApi': 2, 'maxInputChannels': 1, 'maxOutputChannels': 0, 'defaultLowInputLatency': 0.003, 'defaultLowOutputLatency': 0.0, 'defaultHighInputLatency': 0.01, 'defaultHighOutputLatency': 0.0, 'defaultSampleRate': 48000.0}\n",
            "{'index': 15, 'structVersion': 2, 'name': 'Microphone (DroidCam Virtual Audio)', 'hostApi': 2, 'maxInputChannels': 1, 'maxOutputChannels': 0, 'defaultLowInputLatency': 0.003, 'defaultLowOutputLatency': 0.0, 'defaultHighInputLatency': 0.01, 'defaultHighOutputLatency': 0.0, 'defaultSampleRate': 16000.0}\n",
            "{'index': 16, 'structVersion': 2, 'name': 'SPDIF Out (HD Audio SPDIF out)', 'hostApi': 3, 'maxInputChannels': 0, 'maxOutputChannels': 2, 'defaultLowInputLatency': 0.01, 'defaultLowOutputLatency': 0.01, 'defaultHighInputLatency': 0.04, 'defaultHighOutputLatency': 0.04, 'defaultSampleRate': 44100.0}\n",
            "{'index': 17, 'structVersion': 2, 'name': 'MIDI (DroidCam Audio)', 'hostApi': 3, 'maxInputChannels': 1, 'maxOutputChannels': 0, 'defaultLowInputLatency': 0.01, 'defaultLowOutputLatency': 0.01, 'defaultHighInputLatency': 0.08533333333333333, 'defaultHighOutputLatency': 0.08533333333333333, 'defaultSampleRate': 16000.0}\n",
            "{'index': 18, 'structVersion': 2, 'name': 'Output (DroidCam Audio)', 'hostApi': 3, 'maxInputChannels': 0, 'maxOutputChannels': 1, 'defaultLowInputLatency': 0.01, 'defaultLowOutputLatency': 0.01, 'defaultHighInputLatency': 0.08533333333333333, 'defaultHighOutputLatency': 0.08533333333333333, 'defaultSampleRate': 16000.0}\n",
            "{'index': 19, 'structVersion': 2, 'name': 'Speakers (USB Audio Device)', 'hostApi': 3, 'maxInputChannels': 0, 'maxOutputChannels': 2, 'defaultLowInputLatency': 0.01, 'defaultLowOutputLatency': 0.01, 'defaultHighInputLatency': 0.08533333333333333, 'defaultHighOutputLatency': 0.08533333333333333, 'defaultSampleRate': 44100.0}\n",
            "{'index': 20, 'structVersion': 2, 'name': 'Microphone (USB Audio Device)', 'hostApi': 3, 'maxInputChannels': 1, 'maxOutputChannels': 0, 'defaultLowInputLatency': 0.01, 'defaultLowOutputLatency': 0.01, 'defaultHighInputLatency': 0.08533333333333333, 'defaultHighOutputLatency': 0.08533333333333333, 'defaultSampleRate': 44100.0}\n",
            "{'index': 21, 'structVersion': 2, 'name': 'Headphones ()', 'hostApi': 3, 'maxInputChannels': 0, 'maxOutputChannels': 2, 'defaultLowInputLatency': 0.01, 'defaultLowOutputLatency': 0.01, 'defaultHighInputLatency': 0.08533333333333333, 'defaultHighOutputLatency': 0.08533333333333333, 'defaultSampleRate': 44100.0}\n",
            "{'index': 22, 'structVersion': 2, 'name': 'Headset (@System32\\\\drivers\\\\bthhfenum.sys,#2;%1 Hands-Free AG Audio%0\\r\\n;(CHROMA TWS))', 'hostApi': 3, 'maxInputChannels': 0, 'maxOutputChannels': 1, 'defaultLowInputLatency': 0.01, 'defaultLowOutputLatency': 0.01, 'defaultHighInputLatency': 0.08533333333333333, 'defaultHighOutputLatency': 0.08533333333333333, 'defaultSampleRate': 8000.0}\n",
            "{'index': 23, 'structVersion': 2, 'name': 'Headset (@System32\\\\drivers\\\\bthhfenum.sys,#2;%1 Hands-Free AG Audio%0\\r\\n;(CHROMA TWS))', 'hostApi': 3, 'maxInputChannels': 1, 'maxOutputChannels': 0, 'defaultLowInputLatency': 0.01, 'defaultLowOutputLatency': 0.01, 'defaultHighInputLatency': 0.08533333333333333, 'defaultHighOutputLatency': 0.08533333333333333, 'defaultSampleRate': 8000.0}\n"
          ]
        }
      ],
      "source": [
        "import pyaudio\n",
        "p = pyaudio.PyAudio()\n",
        "print(p.get_device_count())\n",
        "for i in range(p.get_device_count()):\n",
        "    print(p.get_device_info_by_index(i))"
      ]
    },
    {
      "cell_type": "code",
      "execution_count": null,
      "metadata": {
        "id": "9TC4NyaxxtLI",
        "outputId": "cf849783-d0e3-43f7-b893-ae6164ebb2b7"
      },
      "outputs": [
        {
          "name": "stdout",
          "output_type": "stream",
          "text": [
            "Output Device id  3  -  Microsoft Sound Mapper - Output\n",
            "Output Device id  4  -  Speakers (2- USB Audio Device)\n",
            "Output Device id  5  -  Digital Audio (S/PDIF) (High De\n"
          ]
        }
      ],
      "source": [
        "import pyaudio\n",
        "p = pyaudio.PyAudio()\n",
        "info = p.get_host_api_info_by_index(0)\n",
        "numdevices = info.get('deviceCount')\n",
        "for i in range(0, numdevices):\n",
        "        if (p.get_device_info_by_host_api_device_index(0, i).get('maxOutputChannels')) > 0:\n",
        "            print(\"Output Device id \", i, \" - \", p.get_device_info_by_host_api_device_index(0, i).get('name'))\n"
      ]
    },
    {
      "cell_type": "code",
      "execution_count": null,
      "metadata": {
        "id": "xvPnego9DCyk",
        "outputId": "db92c231-0ca2-49b2-c1d7-bbbc0318e1f2"
      },
      "outputs": [
        {
          "name": "stdout",
          "output_type": "stream",
          "text": [
            "Requirement already satisfied: google.cloud in c:\\users\\jenny\\anaconda3\\lib\\site-packages (0.34.0)\n"
          ]
        }
      ],
      "source": [
        "!pip install google.cloud"
      ]
    },
    {
      "cell_type": "code",
      "execution_count": null,
      "metadata": {
        "id": "tCHr4GPtDCyl",
        "outputId": "699d5518-06cc-4316-a381-ecee03f8866c"
      },
      "outputs": [
        {
          "name": "stdout",
          "output_type": "stream",
          "text": [
            "Requirement already satisfied: pyttsx3 in c:\\users\\jenny\\anaconda3\\lib\\site-packages (2.90)\n",
            "Requirement already satisfied: pywin32 in c:\\users\\jenny\\anaconda3\\lib\\site-packages (from pyttsx3) (305.1)\n",
            "Requirement already satisfied: comtypes in c:\\users\\jenny\\anaconda3\\lib\\site-packages (from pyttsx3) (1.1.14)\n",
            "Requirement already satisfied: pypiwin32 in c:\\users\\jenny\\anaconda3\\lib\\site-packages (from pyttsx3) (223)\n",
            "Requirement already satisfied: gtts in c:\\users\\jenny\\anaconda3\\lib\\site-packages (2.3.1)\n",
            "Requirement already satisfied: requests<3,>=2.27 in c:\\users\\jenny\\anaconda3\\lib\\site-packages (from gtts) (2.28.1)\n",
            "Requirement already satisfied: click<8.2,>=7.1 in c:\\users\\jenny\\anaconda3\\lib\\site-packages (from gtts) (8.0.4)\n",
            "Requirement already satisfied: colorama in c:\\users\\jenny\\anaconda3\\lib\\site-packages (from click<8.2,>=7.1->gtts) (0.4.6)\n",
            "Requirement already satisfied: urllib3<1.27,>=1.21.1 in c:\\users\\jenny\\anaconda3\\lib\\site-packages (from requests<3,>=2.27->gtts) (1.26.14)\n",
            "Requirement already satisfied: certifi>=2017.4.17 in c:\\users\\jenny\\anaconda3\\lib\\site-packages (from requests<3,>=2.27->gtts) (2022.12.7)\n",
            "Requirement already satisfied: idna<4,>=2.5 in c:\\users\\jenny\\anaconda3\\lib\\site-packages (from requests<3,>=2.27->gtts) (3.4)\n",
            "Requirement already satisfied: charset-normalizer<3,>=2 in c:\\users\\jenny\\anaconda3\\lib\\site-packages (from requests<3,>=2.27->gtts) (2.0.4)\n"
          ]
        }
      ],
      "source": [
        "!pip install pyttsx3\n",
        "!pip install gtts"
      ]
    },
    {
      "cell_type": "code",
      "execution_count": null,
      "metadata": {
        "id": "KXox_LsCDCym"
      },
      "outputs": [],
      "source": [
        "###import pyaudio\n",
        "###def callback(in_data, frame_count, time_info, status):\n",
        "###    print(\"Received audio data\")\n",
        "###    return (in_data, pyaudio.paContinue)\n",
        "###p = pyaudio.PyAudio()\n",
        "###stream = p.open(format=pyaudio.paInt16, channels=1, rate=16000, input=True, frames_per_buffer=16000, stream_callback=callback)\n",
        "###stream.start_stream()\n"
      ]
    },
    {
      "cell_type": "code",
      "execution_count": null,
      "metadata": {
        "scrolled": false,
        "id": "palXdXilDCyn",
        "outputId": "582000ef-cd49-498b-cd8d-770df1004c8f",
        "colab": {
          "referenced_widgets": [
            "43b2ce71973344aba065febe3dc1ad72",
            "cce102c7606b424b82c3d28658228e69",
            "9a9334b462b3409a87cbcbddc2678ac0",
            "8c39c152436b4fb1b9def374bc84ea69",
            "b2c37fc6144a4e5892bbe39bf46c752b"
          ]
        }
      },
      "outputs": [
        {
          "data": {
            "application/vnd.jupyter.widget-view+json": {
              "model_id": "43b2ce71973344aba065febe3dc1ad72",
              "version_major": 2,
              "version_minor": 0
            },
            "text/plain": [
              "Dropdown(description='Recognize:', options=(('English', 'en'), ('French', 'fr'), ('Spanish', 'es'), ('Japanese…"
            ]
          },
          "metadata": {},
          "output_type": "display_data"
        },
        {
          "data": {
            "application/vnd.jupyter.widget-view+json": {
              "model_id": "cce102c7606b424b82c3d28658228e69",
              "version_major": 2,
              "version_minor": 0
            },
            "text/plain": [
              "Dropdown(description='Voice:', options=(('Microsoft David Desktop - English (United States)', 'HKEY_LOCAL_MACH…"
            ]
          },
          "metadata": {},
          "output_type": "display_data"
        },
        {
          "data": {
            "application/vnd.jupyter.widget-view+json": {
              "model_id": "9a9334b462b3409a87cbcbddc2678ac0",
              "version_major": 2,
              "version_minor": 0
            },
            "text/plain": [
              "VBox(children=(HBox(children=(Dropdown(description='Recognize:', options=(('English', 'en'), ('French', 'fr'),…"
            ]
          },
          "metadata": {},
          "output_type": "display_data"
        },
        {
          "data": {
            "application/vnd.jupyter.widget-view+json": {
              "model_id": "8c39c152436b4fb1b9def374bc84ea69",
              "version_major": 2,
              "version_minor": 0
            },
            "text/plain": [
              "Output()"
            ]
          },
          "metadata": {},
          "output_type": "display_data"
        },
        {
          "data": {
            "application/vnd.jupyter.widget-view+json": {
              "model_id": "b2c37fc6144a4e5892bbe39bf46c752b",
              "version_major": 2,
              "version_minor": 0
            },
            "text/plain": [
              "Output()"
            ]
          },
          "metadata": {},
          "output_type": "display_data"
        }
      ],
      "source": [
        "import pyaudio\n",
        "import threading\n",
        "import vosk\n",
        "import ipywidgets as widgets\n",
        "import json\n",
        "import os\n",
        "import subprocess\n",
        "import time\n",
        "import scipy.signal\n",
        "from translate import Translator\n",
        "from gtts import gTTS\n",
        "from IPython.display import Audio\n",
        "import io\n",
        "import pyttsx3\n",
        "from tensorflow.keras.preprocessing.sequence import pad_sequences\n",
        "from keras.models import load_model\n",
        "\n",
        "# Dictionary for Vosk model names\n",
        "vosk_model_names = {\n",
        "    \"es\": \"C:\\\\Users\\\\jenny\\\\Notebooks\\\\vosk-model-small-es-0.42\"\n",
        "}\n",
        "english_keras_model = load_model(\"C:\\\\Users\\\\jenny\\\\Notebooks\\\\TrainedData\\\\trained_model.h5\")\n",
        "\n",
        "\n",
        "def setup_recognizer(language):\n",
        "    if language == \"en\":\n",
        "        # Use Keras model for English\n",
        "        return english_keras_model\n",
        "    else:\n",
        "        model_name = vosk_model_names[language]\n",
        "        model = vosk.Model(model_name)\n",
        "        recognizer = vosk.Recognizer(model, 16000)\n",
        "        recognizer.SetWords(True)\n",
        "        return recognizer\n",
        "\n",
        "rec = setup_recognizer(\"en\")\n",
        "\n",
        "record_button = widgets.Button(description=\"Record\")\n",
        "stop_button = widgets.Button(description=\"Stop\")\n",
        "\n",
        "\n",
        "# Define the audio stream callback function\n",
        "def callback(in_data, frame_count, time_info, status):\n",
        "    if status:\n",
        "        print(status, file=sys.stderr)\n",
        "    # Convert the audio data to the format expected by Vosk\n",
        "    if in_data:\n",
        "        if len(in_data) % 2 == 1:\n",
        "            in_data = in_data[:-1]\n",
        "        rec.AcceptWaveform(in_data)\n",
        "    return (in_data, pyaudio.paContinue)\n",
        "\n",
        "p = pyaudio.PyAudio()\n",
        "\n",
        "\n",
        "def on_record_clicked(b):\n",
        "    global stream, rec\n",
        "    rec = setup_recognizer(recognition_dropdown.value)\n",
        "    stream = p.open(format=pyaudio.paInt16, channels=1, rate=16000, input=True, frames_per_buffer=16000, stream_callback=callback)\n",
        "    stream.start_stream()\n",
        "\n",
        "def on_stop_clicked(b):\n",
        "    global p, stream, translated_text\n",
        "    stream.stop_stream()\n",
        "    stream.close()\n",
        "    p.terminate()\n",
        "    text = rec.FinalResult()\n",
        "    result = json.loads(text)\n",
        "    print(\"Result:\", result[\"text\"])\n",
        "    if result[\"text\"]:\n",
        "        try:\n",
        "            translated_text = translate_text(result[\"text\"], dropdown.value)\n",
        "            print(f\"Translated text ({dropdown.value}): {translated_text}\")\n",
        "        except AttributeError as e:\n",
        "            print(\"Error:\", str(e))\n",
        "\n",
        "record_button.on_click(on_record_clicked)\n",
        "stop_button.on_click(on_stop_clicked)\n",
        "\n",
        "# Define the translation function\n",
        "def translate_text(text, target_language):\n",
        "    try:\n",
        "        translator = Translator(to_lang=target_language)\n",
        "        translation = translator.translate(text)\n",
        "        return translation\n",
        "    except Exception as e:\n",
        "        print(\"Error:\", str(e))\n",
        "        return \"\"\n",
        "\n",
        "# Define the GUI elements\n",
        "dropdown = widgets.Dropdown(options=[(\"English\", \"en\"), (\"Spanish\", \"es\")], description=\"Language:\")\n",
        "output_box = widgets.Output()\n",
        "\n",
        "\n",
        "# Define the GUI elements\n",
        "play_button = widgets.Button(description=\"Play Translation\")\n",
        "audio_output = widgets.Output()\n",
        "\n",
        "# Define the click event function for the play button\n",
        "def on_play_button_clicked(b):\n",
        "    with audio_output:\n",
        "        global translated_text\n",
        "        if translated_text:\n",
        "            tts = gTTS(text=translated_text, lang=dropdown.value)\n",
        "            with io.BytesIO() as f:\n",
        "                tts.write_to_fp(f)\n",
        "                f.seek(0)\n",
        "                display(Audio(f.read(), autoplay=True))\n",
        "        else:\n",
        "            print(\"Please translate the text first.\")\n",
        "\n",
        "# Speech recognition language selection\n",
        "recognition_dropdown = widgets.Dropdown(options=[(\"English\", \"en\"), (\"Spanish\", \"es\")], description=\"Recognize:\")\n",
        "display(recognition_dropdown)\n",
        "\n",
        "# Text-to-speech engine setup\n",
        "tts_engine = pyttsx3.init()\n",
        "voices = tts_engine.getProperty('voices')\n",
        "voice_dropdown = widgets.Dropdown(options=[(voice.name, voice.id) for voice in voices], description=\"Voice:\")\n",
        "display(voice_dropdown)\n",
        "\n",
        "# Attach the event function to the play button\n",
        "play_button.on_click(on_play_button_clicked)\n",
        "\n",
        "# Improved layout\n",
        "input_widgets = widgets.VBox([widgets.HBox([recognition_dropdown, dropdown, voice_dropdown]), widgets.HBox([record_button, stop_button, play_button])])\n",
        "display(input_widgets)\n",
        "display(output_box)\n",
        "display(audio_output)\n",
        "\n"
      ]
    },
    {
      "cell_type": "code",
      "execution_count": null,
      "metadata": {
        "id": "FBB1c4KKDCyn"
      },
      "outputs": [],
      "source": []
    }
  ],
  "metadata": {
    "colab": {
      "provenance": []
    },
    "kernelspec": {
      "display_name": "Python 3 (ipykernel)",
      "language": "python",
      "name": "python3"
    },
    "language_info": {
      "codemirror_mode": {
        "name": "ipython",
        "version": 3
      },
      "file_extension": ".py",
      "mimetype": "text/x-python",
      "name": "python",
      "nbconvert_exporter": "python",
      "pygments_lexer": "ipython3",
      "version": "3.10.9"
    },
    "widgets": {
      "application/vnd.jupyter.widget-state+json": {}
    }
  },
  "nbformat": 4,
  "nbformat_minor": 0
}